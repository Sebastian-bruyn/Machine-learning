{
  "nbformat": 4,
  "nbformat_minor": 0,
  "metadata": {
    "colab": {
      "provenance": [],
      "toc_visible": true,
      "authorship_tag": "ABX9TyNjHOSRiQHSf8RrPPBr7VaQ",
      "include_colab_link": true
    },
    "kernelspec": {
      "name": "python3",
      "display_name": "Python 3"
    },
    "language_info": {
      "name": "python"
    }
  },
  "cells": [
    {
      "cell_type": "markdown",
      "metadata": {
        "id": "view-in-github",
        "colab_type": "text"
      },
      "source": [
        "<a href=\"https://colab.research.google.com/github/Sebastian-bruyn/Machine-learning/blob/main/linear_regression_1.ipynb\" target=\"_parent\"><img src=\"https://colab.research.google.com/assets/colab-badge.svg\" alt=\"Open In Colab\"/></a>"
      ]
    },
    {
      "cell_type": "code",
      "execution_count": 17,
      "metadata": {
        "id": "GyP3Q5ztKqL5"
      },
      "outputs": [],
      "source": [
        "import pandas as pd\n",
        "import numpy as np\n",
        "import tensorflow as tf"
      ]
    },
    {
      "cell_type": "code",
      "source": [
        "train_df = pd.read_csv(\"/train.csv\",low_memory=False)\n",
        "test_df = pd.read_csv(\"/test.csv\",low_memory=False)"
      ],
      "metadata": {
        "id": "YeMtcShQLOhp"
      },
      "execution_count": 26,
      "outputs": []
    },
    {
      "cell_type": "code",
      "source": [
        "train_df.pop(\"id\")\n",
        "test_df.pop(\"id\")\n",
        "\n",
        "train_y = train_df.pop(\"satisfaction\")\n",
        "test_y = test_df.pop(\"satisfaction\")\n",
        "\n",
        "train_x = train_df\n",
        "test_x = test_df"
      ],
      "metadata": {
        "id": "1KzFzRLULk_M"
      },
      "execution_count": 28,
      "outputs": []
    },
    {
      "cell_type": "code",
      "source": [
        "catagorical_data = ['Gender','Customer Type','Type of Travel','Class','Inflight wifi service',\n",
        "                    'Departure/Arrival time convenient','Ease of Online booking','Gate location',\n",
        "                    'Food and drink','Online boarding','Seat comfort','Inflight entertainment',\n",
        "                    'On-board service','Leg room service','Baggage handling','Checkin service',\n",
        "                    'Inflight service','Cleanliness']\n",
        "\n",
        "numeric_data = ['Flight distance','Departure Delay in Minutes','Arrival Delay in Minutes']"
      ],
      "metadata": {
        "id": "o_gM-kCJNx9H"
      },
      "execution_count": 33,
      "outputs": []
    },
    {
      "cell_type": "code",
      "source": [
        "feature_Colms = []\n",
        "for feature_name in catagorical_data:\n",
        "  vocal = train_x[feature_name].unique()\n",
        "  feature_Colms.append(tf.feature_column.categorical_column_with_vocabulary_list(feature_name, vocal))"
      ],
      "metadata": {
        "id": "ddIqmkgZQALP"
      },
      "execution_count": 34,
      "outputs": []
    },
    {
      "cell_type": "code",
      "source": [
        "for feature_name in numeric_data:\n",
        "  feature_Colms.append(tf.feature_column.numeric_column(feature_name, dtype=tf.float32))"
      ],
      "metadata": {
        "id": "xrnncROmRWtg"
      },
      "execution_count": 36,
      "outputs": []
    }
  ]
}